{
 "cells": [
  {
   "cell_type": "markdown",
   "metadata": {},
   "source": [
    "# VidFormatGuardian Prototype"
   ]
  },
  {
   "cell_type": "markdown",
   "metadata": {},
   "source": [
    "This program automatically checks and converts video files in a specified format to ensure they meet certain criteria. It verifies each file's format (video and audio format, audio channels, frame rate, etc.) making a report showing the validation of the file, if this file is invalid, the file is recoded and transformed into the valid format. "
   ]
  },
  {
   "cell_type": "markdown",
   "metadata": {},
   "source": [
    "Check if ffmpeg is installed, if not install it using [Homebrew](https://brew.sh/) on macOS, apt-get on Linux or follow the steps in the pdf document for windows"
   ]
  },
  {
   "cell_type": "code",
   "execution_count": 11,
   "metadata": {},
   "outputs": [],
   "source": [
    "exist = !which ffmpeg\n",
    "if not exist:\n",
    "# Verify the operating system type.\n",
    "    import platform\n",
    "    if platform.system() == 'Darwin':\n",
    "# Install ffmpeg for macOS.\n",
    "        !brew install ffmpeg\n",
    "    elif platform.system() == 'Linux':\n",
    "# Install ffmpeg for Linux-based systems.\n",
    "        !apt-get install ffmpeg\n",
    "    else:\n",
    "        print('If you have Windows, Check the pdf for the steps to follow.')"
   ]
  },
  {
   "cell_type": "markdown",
   "metadata": {},
   "source": [
    "Import libraries:"
   ]
  },
  {
   "cell_type": "code",
   "execution_count": 12,
   "metadata": {},
   "outputs": [],
   "source": [
    "import json\n",
    "import subprocess\n",
    "from pathlib import Path\n",
    "from math import gcd\n",
    "import glob\n"
   ]
  },
  {
   "cell_type": "markdown",
   "metadata": {},
   "source": [
    "## Helper functions"
   ]
  },
  {
   "cell_type": "code",
   "execution_count": 13,
   "metadata": {},
   "outputs": [],
   "source": [
    "def aspect_ratio_calculation(video_width:int, video_height:int) -> str:\n",
    "    \"\"\"Calculate the video aspect ratio from video_width and video_height.\"\"\"\n",
    "    \n",
    "# Determine the largest common factor between video_width and video_height.\n",
    "    common_factor = gcd(video_width, video_height)\n",
    "    \n",
    "# Simplify the aspect ratio to its most basic form.\n",
    "    x = video_width // common_factor\n",
    "    y = video_height // common_factor\n",
    "    \n",
    "# Generate a textual representation of the aspect ratio.\n",
    "    return f\"{x}:{y}\""
   ]
  },
  {
   "cell_type": "code",
   "execution_count": 14,
   "metadata": {},
   "outputs": [],
   "source": [
    "def bitrate_in_kbps(bit_rate:int) -> str:\n",
    "    \"\"\"Convert a bit rate in bits per second to kilobits per second.\"\"\"\n",
    "    \n",
    "# Convert the bitrate to kilobits per second for detailed analysis.\n",
    "    kilobits_per_second = bit_rate / 1000\n",
    "    \n",
    "# Output the kilobits per second value in text format.\n",
    "    return f\"{kilobits_per_second} kb/s\""
   ]
  },
  {
   "cell_type": "code",
   "execution_count": 15,
   "metadata": {},
   "outputs": [],
   "source": [
    "def bitrate_in_mbps(bit_rate:int) -> str:\n",
    "    \"\"\"Convert a bit rate in bits per second to megabits per second.\"\"\"\n",
    "    \n",
    "# Transform the bitrate to megabits per second for easier understanding.\n",
    "    megabits_per_second = bit_rate / 1000000\n",
    "    \n",
    "# Present the megabits per second value as a string.\n",
    "    return f\"{megabits_per_second} Mb/s\""
   ]
  },
  {
   "cell_type": "code",
   "execution_count": 16,
   "metadata": {},
   "outputs": [],
   "source": [
    "def ffprobe(file_location):\n",
    "    \"\"\"Get video metadata using ffprobe.\"\"\"\n",
    "    \n",
    "# Execute ffprobe on the given file directory_path to gather media information.\n",
    "    command = ['ffprobe',\n",
    "               '-show_format',\n",
    "               '-show_streams',\n",
    "               '-of', 'json',\n",
    "               file_location]\n",
    "    process = subprocess.Popen(command, stdout=subprocess.PIPE, stderr=subprocess.PIPE)\n",
    "    out, err = process.communicate()\n",
    "\n",
    "# Provide the obtained ffprobe output.\n",
    "    return json.loads(out.decode('utf-8'))"
   ]
  },
  {
   "cell_type": "markdown",
   "metadata": {},
   "source": [
    "## Process files"
   ]
  },
  {
   "cell_type": "code",
   "execution_count": 17,
   "metadata": {},
   "outputs": [],
   "source": [
    "def validate_file(file_location:str) -> bool:\n",
    "    \"\"\"Check if the file is compliant with the requirements.\"\"\"\n",
    "    valid = True\n",
    "\n",
    "    probe_data = ffprobe(file_location)\n",
    "    print(\"file: \" + file_location)\n",
    "\n",
    "# Gather video stream metadata from the file.\n",
    "    video_stream_details = next((stream for stream in probe_data['streams'] if stream['codec_type'] == 'video'), None)\n",
    "\n",
    "# Extract audio stream details from the media file.\n",
    "    audio_stream_details = next((stream for stream in probe_data['streams'] if stream['codec_type'] == 'audio'), None)\n",
    "\n",
    "# Validate if the media media_container format is MP4.\n",
    "    if not probe_data['format']['format_name'] == \"mov,mp4,m4a,3gp,3g2,mj2\":\n",
    "        print(\"Wrong media_container format: \" + probe_data['format']['format_name'])\n",
    "        valid = False\n",
    "    \n",
    "# Confirm the video is encoded with the h264 codec.\n",
    "    if not video_stream_details['codec_name'] == \"h264\":\n",
    "        print(\"Wrong video codec: \" + probe_data['streams'][0]['codec_name'])\n",
    "        valid = False\n",
    "    \n",
    "# Ensure the audio stream uses the AAC codec.\n",
    "    if not audio_stream_details['codec_name'] == \"aac\":\n",
    "        print(\"Wrong audio codec: \" + probe_data['streams'][1]['codec_name'])\n",
    "        valid = False\n",
    "\n",
    "# Verify the media is encoded at a frame rate of 25 FPS.\n",
    "    if not video_stream_details['r_frame_rate'] == \"25/1\":\n",
    "        print(\"Wrong frame rate: \" + video_stream_details['r_frame_rate'])\n",
    "        valid = False\n",
    "    \n",
    "# Check the video maintains a 16:9 aspect ratio.\n",
    "    aspect_ratio = video_stream_details.get('aspect_ratio_display')\n",
    "    if not aspect_ratio:\n",
    "        aspect_ratio = aspect_ratio_calculation(int(video_stream_details['width']), int(video_stream_details['height']))\n",
    "\n",
    "    if not aspect_ratio == \"16:9\":\n",
    "        print(\"Wrong aspect ratio: \" + aspect_ratio)\n",
    "    \n",
    "# Ascertain the video video_resolution is 640x360 pixels.\n",
    "    if not int(video_stream_details['width']) == 640 or not int(video_stream_details['height']) == 360:\n",
    "        print(f\"Wrong video_resolution: {video_stream_details['width']}x{video_stream_details['height']}\")\n",
    "        valid = False\n",
    "\n",
    "# Ensure the video bitrate falls within the 2 to 5 Mb/s range.\n",
    "    video_bitrate = int(video_stream_details['bit_rate'])\n",
    "    if not 2000000 <= video_bitrate <= 5000000:\n",
    "        print(\"Wrong video bitrate: \" + bitrate_in_mbps(video_bitrate))\n",
    "        valid = False\n",
    "\n",
    "# Confirm the audio bitrate does not exceed 256 kb/s.\n",
    "    audio_bitrate = int(audio_stream_details['bit_rate'])\n",
    "    if not audio_bitrate <= 256000:\n",
    "        print(\"Wrong audio bitrate: \" + bitrate_in_kbps(audio_bitrate))\n",
    "        valid = False\n",
    "\n",
    "# Validate the audio track is in stereo format.\n",
    "    if not audio_stream_details['channels'] == 2:\n",
    "        print(\"Audio channel is not stereo, a number of channels: \" + str(audio_stream_details['channels']))\n",
    "        valid = False\n",
    "    \n",
    "    if valid:\n",
    "        print(\"File is VALID.\\n\")\n",
    "    else:\n",
    "        print(\"File is INVALID.\\n\")\n",
    "    \n",
    "    return valid"
   ]
  },
  {
   "cell_type": "code",
   "execution_count": 18,
   "metadata": {},
   "outputs": [
    {
     "name": "stdout",
     "output_type": "stream",
     "text": [
      "file: Films\\Cosmos_War_of_the_Planets.mp4\n",
      "Wrong frame rate: 30000/1001\n",
      "Wrong aspect ratio: 314:177\n",
      "Wrong video_resolution: 628x354\n",
      "Wrong audio bitrate: 317.103 kb/s\n",
      "File is INVALID.\n",
      "\n",
      "file: Films\\Last_man_on_earth_1964.mov\n",
      "Wrong frame rate: 24000/1001\n",
      "Wrong video bitrate: 9.156232 Mb/s\n",
      "File is INVALID.\n",
      "\n",
      "file: Films\\The_Gun_and_the_Pulpit.avi\n",
      "Wrong media_container format: avi\n",
      "Wrong audio codec: mp3\n",
      "Wrong aspect ratio: 180:101\n",
      "Wrong video_resolution: 720x404\n",
      "Wrong video bitrate: 9.275521 Mb/s\n",
      "File is INVALID.\n",
      "\n",
      "file: Films\\The_Hill_Gang_Rides_Again.mp4\n",
      "Wrong video bitrate: 7.53773 Mb/s\n",
      "File is INVALID.\n",
      "\n",
      "file: Films\\Voyage_to_the_Planet_of_Prehistoric_Women.mp4\n",
      "Wrong video codec: hevc\n",
      "Wrong audio codec: mp3\n",
      "Wrong frame rate: 30000/1001\n",
      "Wrong video bitrate: 8.038857 Mb/s\n",
      "Wrong audio bitrate: 320.0 kb/s\n",
      "File is INVALID.\n",
      "\n"
     ]
    }
   ],
   "source": [
    "# Compile a list of file_list failing to meet specified criteria.\n",
    "wrong_format_files = []\n",
    "\n",
    "# Loop through file_list in the specified folder_path for analysis.\n",
    "for file_location in glob.glob(\"Films/*\"):\n",
    "# Evaluate the file's compliance with predefined standards.\n",
    "    if not validate_file(file_location):\n",
    "        wrong_format_files.append(file_location)\n",
    "\n"
   ]
  },
  {
   "cell_type": "markdown",
   "metadata": {},
   "source": [
    "ALL THE DECODED FILES ARE GOING TO THE FOLDER valid_format_videos"
   ]
  },
  {
   "cell_type": "code",
   "execution_count": 19,
   "metadata": {},
   "outputs": [
    {
     "name": "stdout",
     "output_type": "stream",
     "text": [
      "Reencoding file: Films\\Cosmos_War_of_the_Planets.mp4\n",
      "Reencoding file: Films\\Last_man_on_earth_1964.mov\n",
      "Reencoding file: Films\\The_Gun_and_the_Pulpit.avi\n",
      "Reencoding file: Films\\The_Hill_Gang_Rides_Again.mp4\n",
      "Reencoding file: Films\\Voyage_to_the_Planet_of_Prehistoric_Women.mp4\n",
      "\n",
      "\n"
     ]
    }
   ],
   "source": [
    "for file_location in wrong_format_files:\n",
    "    print(\"Reencoding file: \" + file_location)\n",
    "\n",
    "# Create the specified folder_path if it does not already exist.\n",
    "    Path(\"valid_format_videos\").mkdir(parents=True, exist_ok=True)\n",
    "\n",
    "# Execute the ffmpeg command for media processing.\n",
    "    command = [\n",
    "        'ffmpeg',\n",
    "        '-i', file_location, # input file\n",
    "\n",
    "# Apply a complex filter for video scaling to 640x360 and setting frame rate to 25.\n",
    "        '-filter_complex', '[0:v]scale=height=360:width=640[s0];[s0]fps=fps=25:round=up[s1]',\n",
    "\n",
    "# Specify audio processing options.\n",
    "        '-map', '0:a', # use the audio stream\n",
    "        '-acodec', 'aac', # set audio codec\n",
    "        '-ab', '256k', # set audio bitrate\n",
    "        '-ac', '2', # set audio channel (stereo)\n",
    "\n",
    "# Define video processing parameters.\n",
    "        '-map', '[s1]', # use the scaled video stream\n",
    "        '-aspect', '16:9', # set video aspect ratio\n",
    " \n",
    "# Set the video codec to be used in encoding.\n",
    "        '-vcodec', 'h264', \n",
    "\n",
    "# Establish a video bitrate range of 2 to 5 Mb/s.\n",
    "        '-maxrate', '5M', # set max video bitrate\n",
    "        '-minrate', '2M', # set min video bitrate\n",
    "        '-bufsize', '5M', # set buffer size, because of maxrate doesn't work without this\n",
    "        '-x264-params', '\"nal-hrd=cbr\"', # set constant bitrate mode, because of minrate don't work without this\n",
    "        '-b:v', '3M', # set average video bitrate\n",
    "\n",
    "        '-y', # overwrite output file if it exists\n",
    "        \"valid_format_videos/\" + Path(file_location).stem + \"_formatOK.mp4\" # output file\n",
    "    ]\n",
    "\n",
    "    returncode = subprocess.run(command).returncode\n",
    "    assert returncode == 0\n",
    "\n",
    "print(\"\\n\")"
   ]
  },
  {
   "cell_type": "markdown",
   "metadata": {},
   "source": [
    "Check reencoded files:"
   ]
  },
  {
   "cell_type": "code",
   "execution_count": 20,
   "metadata": {},
   "outputs": [
    {
     "name": "stdout",
     "output_type": "stream",
     "text": [
      "file: valid_format_videos\\Cosmos_War_of_the_Planets_formatOK.mp4\n",
      "File is VALID.\n",
      "\n",
      "file: valid_format_videos\\Last_man_on_earth_1964_formatOK.mp4\n",
      "File is VALID.\n",
      "\n",
      "file: valid_format_videos\\The_Gun_and_the_Pulpit_formatOK.mp4\n",
      "File is VALID.\n",
      "\n",
      "file: valid_format_videos\\The_Hill_Gang_Rides_Again_formatOK.mp4\n",
      "File is VALID.\n",
      "\n",
      "file: valid_format_videos\\Voyage_to_the_Planet_of_Prehistoric_Women_formatOK.mp4\n",
      "File is VALID.\n",
      "\n"
     ]
    }
   ],
   "source": [
    "for file_location in glob.glob(\"valid_format_videos/*\"):\n",
    "    validate_file(file_location)"
   ]
  }
 ],
 "metadata": {
  "kernelspec": {
   "display_name": "base",
   "language": "python",
   "name": "python3"
  },
  "language_info": {
   "codemirror_mode": {
    "name": "ipython",
    "version": 3
   },
   "file_extension": ".py",
   "mimetype": "text/x-python",
   "name": "python",
   "nbconvert_exporter": "python",
   "pygments_lexer": "ipython3",
   "version": "3.9.11"
  }
 },
 "nbformat": 4,
 "nbformat_minor": 2
}
